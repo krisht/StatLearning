{
 "cells": [
  {
   "cell_type": "code",
   "execution_count": 1,
   "metadata": {
    "collapsed": false
   },
   "outputs": [],
   "source": [
    "# Krishna Thiyagarajan\n",
    "# Abhinav Jain\n",
    "# Oct. 09, 2016\n",
    "# ECE-411: Statistical Learning\n",
    "# Professor Sam Keene\n",
    "\n",
    "# Description:\n",
    "# Takes training data from an experiment to learn\n",
    "# to predict whether a given protein structure will\n",
    "# help form RNA and then uses more data from same experiment\n",
    "# to predict whether or not it will using a self-designed \n",
    "# Stochastic Gradient Descent method\n",
    "#\n",
    "\n",
    "%matplotlib inline\n",
    "import pandas as pd\n",
    "import numpy as np\n",
    "import matplotlib.pyplot as plt\n",
    "from random import *\n",
    "from math import *"
   ]
  },
  {
   "cell_type": "code",
   "execution_count": 2,
   "metadata": {
    "collapsed": false
   },
   "outputs": [
    {
     "name": "stdout",
     "output_type": "stream",
     "text": [
      "Learning set dimensions: (59535, 9)\n",
      "Testing set dimensions: (271617, 9)\n"
     ]
    }
   ],
   "source": [
    "learningSet = pd.read_csv(\"input/cod-rna.csv\")\n",
    "testingSet = pd.read_csv(\"input/cod-rna-test.csv\")\n",
    "print(\"Learning set dimensions:\", learningSet.shape)\n",
    "print(\"Testing set dimensions:\", testingSet.shape)"
   ]
  },
  {
   "cell_type": "code",
   "execution_count": 3,
   "metadata": {
    "collapsed": false,
    "scrolled": true
   },
   "outputs": [
    {
     "data": {
      "text/html": [
       "<div>\n",
       "<table border=\"1\" class=\"dataframe\">\n",
       "  <thead>\n",
       "    <tr style=\"text-align: right;\">\n",
       "      <th></th>\n",
       "      <th>data1</th>\n",
       "      <th>data2</th>\n",
       "      <th>data3</th>\n",
       "      <th>data4</th>\n",
       "      <th>data5</th>\n",
       "      <th>data6</th>\n",
       "      <th>data7</th>\n",
       "      <th>data8</th>\n",
       "      <th>state</th>\n",
       "    </tr>\n",
       "  </thead>\n",
       "  <tbody>\n",
       "    <tr>\n",
       "      <th>0</th>\n",
       "      <td>-766</td>\n",
       "      <td>128</td>\n",
       "      <td>0.140625</td>\n",
       "      <td>0.304688</td>\n",
       "      <td>0.234375</td>\n",
       "      <td>0.140625</td>\n",
       "      <td>0.304688</td>\n",
       "      <td>0.234375</td>\n",
       "      <td>0</td>\n",
       "    </tr>\n",
       "    <tr>\n",
       "      <th>1</th>\n",
       "      <td>-726</td>\n",
       "      <td>131</td>\n",
       "      <td>0.129771</td>\n",
       "      <td>0.328244</td>\n",
       "      <td>0.229008</td>\n",
       "      <td>0.129771</td>\n",
       "      <td>0.328244</td>\n",
       "      <td>0.229008</td>\n",
       "      <td>0</td>\n",
       "    </tr>\n",
       "    <tr>\n",
       "      <th>2</th>\n",
       "      <td>-648</td>\n",
       "      <td>123</td>\n",
       "      <td>0.146341</td>\n",
       "      <td>0.333333</td>\n",
       "      <td>0.211382</td>\n",
       "      <td>0.146341</td>\n",
       "      <td>0.333333</td>\n",
       "      <td>0.211382</td>\n",
       "      <td>0</td>\n",
       "    </tr>\n",
       "    <tr>\n",
       "      <th>3</th>\n",
       "      <td>-764</td>\n",
       "      <td>124</td>\n",
       "      <td>0.137097</td>\n",
       "      <td>0.322581</td>\n",
       "      <td>0.233871</td>\n",
       "      <td>0.137097</td>\n",
       "      <td>0.322581</td>\n",
       "      <td>0.233871</td>\n",
       "      <td>0</td>\n",
       "    </tr>\n",
       "    <tr>\n",
       "      <th>4</th>\n",
       "      <td>-584</td>\n",
       "      <td>130</td>\n",
       "      <td>0.153846</td>\n",
       "      <td>0.392308</td>\n",
       "      <td>0.184615</td>\n",
       "      <td>0.153846</td>\n",
       "      <td>0.392308</td>\n",
       "      <td>0.184615</td>\n",
       "      <td>0</td>\n",
       "    </tr>\n",
       "  </tbody>\n",
       "</table>\n",
       "</div>"
      ],
      "text/plain": [
       "   data1  data2     data3     data4     data5     data6     data7     data8  \\\n",
       "0   -766    128  0.140625  0.304688  0.234375  0.140625  0.304688  0.234375   \n",
       "1   -726    131  0.129771  0.328244  0.229008  0.129771  0.328244  0.229008   \n",
       "2   -648    123  0.146341  0.333333  0.211382  0.146341  0.333333  0.211382   \n",
       "3   -764    124  0.137097  0.322581  0.233871  0.137097  0.322581  0.233871   \n",
       "4   -584    130  0.153846  0.392308  0.184615  0.153846  0.392308  0.184615   \n",
       "\n",
       "   state  \n",
       "0      0  \n",
       "1      0  \n",
       "2      0  \n",
       "3      0  \n",
       "4      0  "
      ]
     },
     "execution_count": 3,
     "metadata": {},
     "output_type": "execute_result"
    }
   ],
   "source": [
    "learningSet.head()"
   ]
  },
  {
   "cell_type": "code",
   "execution_count": 4,
   "metadata": {
    "collapsed": false
   },
   "outputs": [
    {
     "data": {
      "text/html": [
       "<div>\n",
       "<table border=\"1\" class=\"dataframe\">\n",
       "  <thead>\n",
       "    <tr style=\"text-align: right;\">\n",
       "      <th></th>\n",
       "      <th>data1</th>\n",
       "      <th>data2</th>\n",
       "      <th>data3</th>\n",
       "      <th>data4</th>\n",
       "      <th>data5</th>\n",
       "      <th>data6</th>\n",
       "      <th>data7</th>\n",
       "      <th>data8</th>\n",
       "      <th>state</th>\n",
       "    </tr>\n",
       "  </thead>\n",
       "  <tbody>\n",
       "    <tr>\n",
       "      <th>0</th>\n",
       "      <td>-500</td>\n",
       "      <td>128</td>\n",
       "      <td>0.140625</td>\n",
       "      <td>0.304688</td>\n",
       "      <td>0.234375</td>\n",
       "      <td>0.129771</td>\n",
       "      <td>0.328244</td>\n",
       "      <td>0.229008</td>\n",
       "      <td>0</td>\n",
       "    </tr>\n",
       "    <tr>\n",
       "      <th>1</th>\n",
       "      <td>-541</td>\n",
       "      <td>123</td>\n",
       "      <td>0.140625</td>\n",
       "      <td>0.304688</td>\n",
       "      <td>0.234375</td>\n",
       "      <td>0.146341</td>\n",
       "      <td>0.333333</td>\n",
       "      <td>0.211382</td>\n",
       "      <td>0</td>\n",
       "    </tr>\n",
       "    <tr>\n",
       "      <th>2</th>\n",
       "      <td>-479</td>\n",
       "      <td>124</td>\n",
       "      <td>0.140625</td>\n",
       "      <td>0.304688</td>\n",
       "      <td>0.234375</td>\n",
       "      <td>0.137097</td>\n",
       "      <td>0.322581</td>\n",
       "      <td>0.233871</td>\n",
       "      <td>0</td>\n",
       "    </tr>\n",
       "    <tr>\n",
       "      <th>3</th>\n",
       "      <td>-427</td>\n",
       "      <td>128</td>\n",
       "      <td>0.140625</td>\n",
       "      <td>0.304688</td>\n",
       "      <td>0.234375</td>\n",
       "      <td>0.153846</td>\n",
       "      <td>0.392308</td>\n",
       "      <td>0.184615</td>\n",
       "      <td>0</td>\n",
       "    </tr>\n",
       "    <tr>\n",
       "      <th>4</th>\n",
       "      <td>-478</td>\n",
       "      <td>120</td>\n",
       "      <td>0.140625</td>\n",
       "      <td>0.304688</td>\n",
       "      <td>0.234375</td>\n",
       "      <td>0.250000</td>\n",
       "      <td>0.216667</td>\n",
       "      <td>0.275000</td>\n",
       "      <td>0</td>\n",
       "    </tr>\n",
       "  </tbody>\n",
       "</table>\n",
       "</div>"
      ],
      "text/plain": [
       "   data1  data2     data3     data4     data5     data6     data7     data8  \\\n",
       "0   -500    128  0.140625  0.304688  0.234375  0.129771  0.328244  0.229008   \n",
       "1   -541    123  0.140625  0.304688  0.234375  0.146341  0.333333  0.211382   \n",
       "2   -479    124  0.140625  0.304688  0.234375  0.137097  0.322581  0.233871   \n",
       "3   -427    128  0.140625  0.304688  0.234375  0.153846  0.392308  0.184615   \n",
       "4   -478    120  0.140625  0.304688  0.234375  0.250000  0.216667  0.275000   \n",
       "\n",
       "   state  \n",
       "0      0  \n",
       "1      0  \n",
       "2      0  \n",
       "3      0  \n",
       "4      0  "
      ]
     },
     "execution_count": 4,
     "metadata": {},
     "output_type": "execute_result"
    }
   ],
   "source": [
    "testingSet.head()"
   ]
  },
  {
   "cell_type": "code",
   "execution_count": 5,
   "metadata": {
    "collapsed": false
   },
   "outputs": [],
   "source": [
    "learningSet = (learningSet - learningSet.mean()) / (learningSet.max() - learningSet.min()) #Normalizes data\n",
    "testingSet = (testingSet - testingSet.mean()) / (testingSet.max() - testingSet.min())\n",
    "learingSet = learningSet.iloc[np.random.permutation(len(learningSet))] #Randomizes data order\n",
    "testingSet = testingSet.iloc[np.random.permutation(len(testingSet))]\n",
    "\n",
    "for index, row in learningSet.iterrows(): # Switches normalized output values to originals for learning set\n",
    "    if row['state'] < 0: #Less than 0 means 0\n",
    "        row['state'] = 0;\n",
    "    elif row['state'] > 0: # Greater than 0 means 1 (Normalization messes up the values a bit)\n",
    "        row['state'] = 1;\n",
    "        \n",
    "for index, row in testingSet.iterrows(): # Does the same for testing set\n",
    "    if row['state'] < 0:\n",
    "        row['state'] = 0;\n",
    "    elif row['state'] > 0:\n",
    "        row['state'] = 1;"
   ]
  },
  {
   "cell_type": "code",
   "execution_count": 6,
   "metadata": {
    "collapsed": false,
    "scrolled": true
   },
   "outputs": [
    {
     "data": {
      "text/html": [
       "<div>\n",
       "<table border=\"1\" class=\"dataframe\">\n",
       "  <thead>\n",
       "    <tr style=\"text-align: right;\">\n",
       "      <th></th>\n",
       "      <th>data1</th>\n",
       "      <th>data2</th>\n",
       "      <th>data3</th>\n",
       "      <th>data4</th>\n",
       "      <th>data5</th>\n",
       "      <th>data6</th>\n",
       "      <th>data7</th>\n",
       "      <th>data8</th>\n",
       "      <th>state</th>\n",
       "    </tr>\n",
       "  </thead>\n",
       "  <tbody>\n",
       "    <tr>\n",
       "      <th>0</th>\n",
       "      <td>-0.162755</td>\n",
       "      <td>0.475106</td>\n",
       "      <td>-0.216824</td>\n",
       "      <td>0.261881</td>\n",
       "      <td>-0.104125</td>\n",
       "      <td>-0.219759</td>\n",
       "      <td>0.267075</td>\n",
       "      <td>-0.110266</td>\n",
       "      <td>0.0</td>\n",
       "    </tr>\n",
       "    <tr>\n",
       "      <th>1</th>\n",
       "      <td>-0.141342</td>\n",
       "      <td>0.520561</td>\n",
       "      <td>-0.245876</td>\n",
       "      <td>0.337237</td>\n",
       "      <td>-0.123417</td>\n",
       "      <td>-0.248811</td>\n",
       "      <td>0.342430</td>\n",
       "      <td>-0.129558</td>\n",
       "      <td>0.0</td>\n",
       "    </tr>\n",
       "    <tr>\n",
       "      <th>2</th>\n",
       "      <td>-0.099586</td>\n",
       "      <td>0.399349</td>\n",
       "      <td>-0.201525</td>\n",
       "      <td>0.353517</td>\n",
       "      <td>-0.186773</td>\n",
       "      <td>-0.204460</td>\n",
       "      <td>0.358710</td>\n",
       "      <td>-0.192914</td>\n",
       "      <td>0.0</td>\n",
       "    </tr>\n",
       "    <tr>\n",
       "      <th>3</th>\n",
       "      <td>-0.161685</td>\n",
       "      <td>0.414500</td>\n",
       "      <td>-0.226267</td>\n",
       "      <td>0.319121</td>\n",
       "      <td>-0.105937</td>\n",
       "      <td>-0.229202</td>\n",
       "      <td>0.324314</td>\n",
       "      <td>-0.112078</td>\n",
       "      <td>0.0</td>\n",
       "    </tr>\n",
       "    <tr>\n",
       "      <th>4</th>\n",
       "      <td>-0.065325</td>\n",
       "      <td>0.505409</td>\n",
       "      <td>-0.181437</td>\n",
       "      <td>0.542178</td>\n",
       "      <td>-0.282987</td>\n",
       "      <td>-0.184372</td>\n",
       "      <td>0.547371</td>\n",
       "      <td>-0.289127</td>\n",
       "      <td>0.0</td>\n",
       "    </tr>\n",
       "  </tbody>\n",
       "</table>\n",
       "</div>"
      ],
      "text/plain": [
       "      data1     data2     data3     data4     data5     data6     data7  \\\n",
       "0 -0.162755  0.475106 -0.216824  0.261881 -0.104125 -0.219759  0.267075   \n",
       "1 -0.141342  0.520561 -0.245876  0.337237 -0.123417 -0.248811  0.342430   \n",
       "2 -0.099586  0.399349 -0.201525  0.353517 -0.186773 -0.204460  0.358710   \n",
       "3 -0.161685  0.414500 -0.226267  0.319121 -0.105937 -0.229202  0.324314   \n",
       "4 -0.065325  0.505409 -0.181437  0.542178 -0.282987 -0.184372  0.547371   \n",
       "\n",
       "      data8  state  \n",
       "0 -0.110266    0.0  \n",
       "1 -0.129558    0.0  \n",
       "2 -0.192914    0.0  \n",
       "3 -0.112078    0.0  \n",
       "4 -0.289127    0.0  "
      ]
     },
     "execution_count": 6,
     "metadata": {},
     "output_type": "execute_result"
    }
   ],
   "source": [
    "learningSet.head()"
   ]
  },
  {
   "cell_type": "code",
   "execution_count": 7,
   "metadata": {
    "collapsed": false
   },
   "outputs": [
    {
     "data": {
      "text/html": [
       "<div>\n",
       "<table border=\"1\" class=\"dataframe\">\n",
       "  <thead>\n",
       "    <tr style=\"text-align: right;\">\n",
       "      <th></th>\n",
       "      <th>data1</th>\n",
       "      <th>data2</th>\n",
       "      <th>data3</th>\n",
       "      <th>data4</th>\n",
       "      <th>data5</th>\n",
       "      <th>data6</th>\n",
       "      <th>data7</th>\n",
       "      <th>data8</th>\n",
       "      <th>state</th>\n",
       "    </tr>\n",
       "  </thead>\n",
       "  <tbody>\n",
       "    <tr>\n",
       "      <th>16679</th>\n",
       "      <td>-0.015367</td>\n",
       "      <td>0.337558</td>\n",
       "      <td>0.037013</td>\n",
       "      <td>0.005537</td>\n",
       "      <td>-0.039056</td>\n",
       "      <td>0.010218</td>\n",
       "      <td>-0.064896</td>\n",
       "      <td>0.075018</td>\n",
       "      <td>0.0</td>\n",
       "    </tr>\n",
       "    <tr>\n",
       "      <th>31391</th>\n",
       "      <td>-0.099691</td>\n",
       "      <td>0.415683</td>\n",
       "      <td>-0.016270</td>\n",
       "      <td>0.022550</td>\n",
       "      <td>0.005116</td>\n",
       "      <td>-0.061759</td>\n",
       "      <td>-0.043617</td>\n",
       "      <td>0.066459</td>\n",
       "      <td>0.0</td>\n",
       "    </tr>\n",
       "    <tr>\n",
       "      <th>255654</th>\n",
       "      <td>0.003874</td>\n",
       "      <td>-0.271817</td>\n",
       "      <td>-0.182044</td>\n",
       "      <td>-0.040279</td>\n",
       "      <td>0.027132</td>\n",
       "      <td>0.107289</td>\n",
       "      <td>0.047584</td>\n",
       "      <td>-0.147947</td>\n",
       "      <td>1.0</td>\n",
       "    </tr>\n",
       "    <tr>\n",
       "      <th>222961</th>\n",
       "      <td>-0.011406</td>\n",
       "      <td>-0.287442</td>\n",
       "      <td>0.015290</td>\n",
       "      <td>-0.035263</td>\n",
       "      <td>0.108889</td>\n",
       "      <td>-0.093249</td>\n",
       "      <td>-0.032638</td>\n",
       "      <td>0.020648</td>\n",
       "      <td>1.0</td>\n",
       "    </tr>\n",
       "    <tr>\n",
       "      <th>97836</th>\n",
       "      <td>-0.168735</td>\n",
       "      <td>0.384433</td>\n",
       "      <td>-0.006605</td>\n",
       "      <td>-0.018775</td>\n",
       "      <td>0.021094</td>\n",
       "      <td>-0.052685</td>\n",
       "      <td>-0.059429</td>\n",
       "      <td>0.083724</td>\n",
       "      <td>1.0</td>\n",
       "    </tr>\n",
       "  </tbody>\n",
       "</table>\n",
       "</div>"
      ],
      "text/plain": [
       "           data1     data2     data3     data4     data5     data6     data7  \\\n",
       "16679  -0.015367  0.337558  0.037013  0.005537 -0.039056  0.010218 -0.064896   \n",
       "31391  -0.099691  0.415683 -0.016270  0.022550  0.005116 -0.061759 -0.043617   \n",
       "255654  0.003874 -0.271817 -0.182044 -0.040279  0.027132  0.107289  0.047584   \n",
       "222961 -0.011406 -0.287442  0.015290 -0.035263  0.108889 -0.093249 -0.032638   \n",
       "97836  -0.168735  0.384433 -0.006605 -0.018775  0.021094 -0.052685 -0.059429   \n",
       "\n",
       "           data8  state  \n",
       "16679   0.075018    0.0  \n",
       "31391   0.066459    0.0  \n",
       "255654 -0.147947    1.0  \n",
       "222961  0.020648    1.0  \n",
       "97836   0.083724    1.0  "
      ]
     },
     "execution_count": 7,
     "metadata": {},
     "output_type": "execute_result"
    }
   ],
   "source": [
    "testingSet.head()"
   ]
  },
  {
   "cell_type": "code",
   "execution_count": 8,
   "metadata": {
    "collapsed": false
   },
   "outputs": [],
   "source": [
    "classLearn = learningSet[\"state\"].as_matrix().transpose() #Transposes output in order to manipulate stuff\n",
    "inputsLearn = learningSet.drop(\"state\", 1).as_matrix().transpose() #Ditto as above\n",
    "inputsLearn = np.append(np.ones((1,59535)), inputsLearn, axis = 0) # Appends a single column for beta_0\n",
    "\n",
    "# Ditto as above except for testingSet\n",
    "classTest = testingSet[\"state\"].as_matrix().transpose() # \n",
    "inputsTest = testingSet.drop(\"state\", 1).as_matrix().transpose()\n",
    "inputsTest = np.append(np.ones((1,271617)), inputsTest, axis = 0)"
   ]
  },
  {
   "cell_type": "code",
   "execution_count": 9,
   "metadata": {
    "collapsed": true
   },
   "outputs": [],
   "source": [
    "weights = []\n",
    "\n",
    "def sigmoid(x):\n",
    "    return (1.0/(1.0+np.exp(-x))); \n",
    "\n",
    "def logLikely(x,y,w): # log likelihood function\n",
    "    item = np.dot(np.transpose(w),x); \n",
    "    result = y*log(sigmoid(item))+(1-y)*log(1.0-(sigmoid(item)))\n",
    "    return result\n",
    "\n",
    "def SGD(y,X,a): #SGD algorithm\n",
    "    #Calculates num of iterations and attributes\n",
    "    numberOfTrials = y.shape[0] \n",
    "    numberOfEstimators = X.shape[0]\n",
    "    #Intializes variables\n",
    "    prevWeight = np.ones(numberOfEstimators)\n",
    "    weight = np.zeros(numberOfEstimators)\n",
    "    error = 10000.0\n",
    "    prevCost = 1000.0\n",
    "    currCost = 0\n",
    "    \n",
    "    #Loops through to find a minimum error point\n",
    "    while ((prevCost < currCost) or (abs(prevCost - currCost) > 1e-10)):\n",
    "        currCost = 0.0\n",
    "        while (np.linalg.norm(prevWeight-weight,ord=2) > 1e-6):\n",
    "            prevWeight = weight #init prev. weight\n",
    "            i = randint(1,59534) #Generates random integer for selecting point\n",
    "            grad = (y[i] - sigmoid(np.dot(np.transpose(prevWeight),X[:,i]))) #Estimates gradient\n",
    "            weight = prevWeight + a * grad * X[:,i] #Uses formula given in class to move towards minimum\n",
    "            currCost += logLikely(X[:,i],y[i],weight) #Changes cost\n",
    "            weights.append(np.linalg.norm(weight,ord=2)) #Adds weight to array of weights\n",
    "        prevCost = currCost\n",
    "    return weight #returns\n",
    "\n",
    "def predict(inputVector,estimatorVector):\n",
    "    t = estimatorVector\n",
    "    x = inputVector\n",
    "    confidence = sigmoid(np.dot(np.transpose(t) , x))\n",
    "    if confidence > 0.5:\n",
    "        return 1\n",
    "    else:\n",
    "        return 0"
   ]
  },
  {
   "cell_type": "code",
   "execution_count": 10,
   "metadata": {
    "collapsed": false
   },
   "outputs": [
    {
     "name": "stdout",
     "output_type": "stream",
     "text": [
      "Weights = [ -0.86466547 -19.64576657  -3.75217174   1.65202083   1.29483063\n",
      "  -0.9342465    1.99215506   1.22288358  -0.85045739]\n"
     ]
    }
   ],
   "source": [
    "outputWeights = SGD(classLearn,inputsLearn,1.0/200.0)\n",
    "print(\"Weights =\", outputWeights)"
   ]
  },
  {
   "cell_type": "code",
   "execution_count": 11,
   "metadata": {
    "collapsed": false,
    "scrolled": true
   },
   "outputs": [
    {
     "data": {
      "image/png": "[encoded data removed]",
      "text/plain": [
       "<matplotlib.figure.Figure at 0x7f4cd2b0d320>"
      ]
     },
     "metadata": {},
     "output_type": "display_data"
    }
   ],
   "source": [
    "x = []\n",
    "for i in range(len(weights)):\n",
    "    x.append(i)\n",
    "plt.plot(x,weights)\n",
    "plt.title(\"Convergence\")\n",
    "plt.xlabel(\"Iteration\")\n",
    "plt.ylabel(\"L2 norm\")\n",
    "plt.show()"
   ]
  },
  {
   "cell_type": "code",
   "execution_count": 12,
   "metadata": {
    "collapsed": false
   },
   "outputs": [
    {
     "name": "stdout",
     "output_type": "stream",
     "text": [
      "Hits: 253744 \n",
      "Misses: 17873 \n",
      "Total: 271617 \n",
      "Hit %: 93%\n"
     ]
    }
   ],
   "source": [
    "hits = 0\n",
    "misses = 0\n",
    "total = 0\n",
    "#Calculates hits and misses on the test dataset\n",
    "for j in range(271617):\n",
    "    if (classTest[j] == predict(inputsTest[:,j],outputWeights)):\n",
    "        hits += 1\n",
    "    else:\n",
    "        misses += 1\n",
    "    total += 1\n",
    "print (\"Hits:\", hits,\"\\nMisses:\",  misses,\"\\nTotal:\", total, \"\\nHit %:\",\"%d%s\" % (100*hits/total , \"%\") )"
   ]
  }
 ],
 "metadata": {
  "anaconda-cloud": {},
  "kernelspec": {
   "display_name": "Python [default]",
   "language": "python",
   "name": "python3"
  },
  "language_info": {
   "codemirror_mode": {
    "name": "ipython",
    "version": 3
   },
   "file_extension": ".py",
   "mimetype": "text/x-python",
   "name": "python",
   "nbconvert_exporter": "python",
   "pygments_lexer": "ipython3",
   "version": "3.5.2"
  }
 },
 "nbformat": 4,
 "nbformat_minor": 0
}
